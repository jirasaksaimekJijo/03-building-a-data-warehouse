{
 "cells": [
  {
   "cell_type": "code",
   "execution_count": 7,
   "metadata": {},
   "outputs": [],
   "source": [
    "import os\n",
    "import json\n",
    "import glob\n",
    "import psycopg2\n",
    "import pandas as pd\n",
    "from google.cloud import bigquery"
   ]
  },
  {
   "cell_type": "code",
   "execution_count": 26,
   "metadata": {},
   "outputs": [
    {
     "name": "stdout",
     "output_type": "stream",
     "text": [
      "0 files found in github_events_01.json\n"
     ]
    }
   ],
   "source": [
    "filepath = 'github_events_01.json'\n",
    "all_files = []\n",
    "for root, dirs, files in os.walk(filepath):\n",
    "    files = glob.glob(os.path.join(root, \"*.json\"))\n",
    "    for f in files:\n",
    "        all_files.append(os.path.abspath(f))\n",
    "\n",
    "num_files = len(all_files)\n",
    "print(f\"{num_files} files found in {filepath}\")"
   ]
  },
  {
   "cell_type": "code",
   "execution_count": 25,
   "metadata": {},
   "outputs": [],
   "source": [
    "\n",
    "\n",
    "\n",
    "\n",
    "def process(cur, conn, filepath):\n",
    "    # Get list of files from filepath\n",
    "    all_files = get_files(filepath)\n",
    "\n",
    "    for datafile in all_files:\n",
    "        with open(datafile, \"r\") as f:\n",
    "            data = json.loads(f.read())\n",
    "            for each in data:            \n",
    "\n",
    "                # Insert data into tables here\n",
    "                insert_statement = f\"\"\"\n",
    "                    INSERT INTO events (\n",
    "                        id,\n",
    "                        type,\n",
    "                        actor_id\n",
    "                    ) VALUES ('{each[\"id\"]}', '{each[\"type\"]}', '{each[\"actor\"][\"id\"]}')\n",
    "                    ON CONFLICT (id) DO NOTHING\n",
    "                \"\"\"\n",
    "                cur.execute(insert_statement)\n",
    "\n",
    "                insert_statement = f\"\"\"\n",
    "                    INSERT INTO repo (\n",
    "                        id,\n",
    "                        name,\n",
    "                        url,\n",
    "                        actor_id\n",
    "                    ) VALUES (\n",
    "                        '{each[\"repo\"][\"id\"]}',\n",
    "                        '{each[\"repo\"][\"name\"]}',\n",
    "                        '{each[\"repo\"][\"url\"]}',\n",
    "                        '{each[\"actor\"][\"id\"]}'\n",
    "                    ) ON CONFLICT (id) DO NOTHING\n",
    "                \"\"\"\n",
    "\n",
    "\n",
    "                conn.commit()"
   ]
  },
  {
   "cell_type": "code",
   "execution_count": null,
   "metadata": {},
   "outputs": [],
   "source": [
    "def main():\n",
    "    conn = psycopg2.connect(\n",
    "        \"host=127.0.0.1 dbname=postgres user=postgres password=postgres\"\n",
    "    )\n",
    "    cur = conn.cursor()\n",
    "\n",
    "    process(cur, conn, filepath=\"../data\")\n",
    "\n",
    "    conn.close()\n",
    "\n",
    "\n",
    "if __name__ == \"__main__\":\n",
    "    main()"
   ]
  },
  {
   "cell_type": "code",
   "execution_count": null,
   "metadata": {},
   "outputs": [],
   "source": [
    "\n",
    "\n",
    "# Define your schema\n",
    "schema = [\n",
    "    bigquery.SchemaField(\"first_name\", \"STRING\", mode=\"REQUIRED\"),\n",
    "    bigquery.SchemaField(\"last_name\", \"STRING\", mode=\"REQUIRED\"),\n",
    "    bigquery.SchemaField(\"dob\", \"STRING\", mode=\"REQUIRED\"),\n",
    "    bigquery.SchemaField(\"age\", \"INTEGER\", mode=\"REQUIRED\")\n",
    "]\n",
    "\n",
    "# Specify the table ID\n",
    "table_id = \"your_project.your_dataset.your_table\"\n",
    "\n",
    "# Create a BigQuery client\n",
    "client = bigquery.Client()\n",
    "\n",
    "# Create the table\n",
    "table = bigquery.Table(table_id, schema=schema)\n",
    "table = client.create_table(table)\n",
    "\n",
    "# Print confirmation message\n",
    "print(\"Created Table {}.{}.{}\".format(table.project, table.dataset_id, table.table_id))\n"
   ]
  }
 ],
 "metadata": {
  "kernelspec": {
   "display_name": "Python 3",
   "language": "python",
   "name": "python3"
  },
  "language_info": {
   "codemirror_mode": {
    "name": "ipython",
    "version": 3
   },
   "file_extension": ".py",
   "mimetype": "text/x-python",
   "name": "python",
   "nbconvert_exporter": "python",
   "pygments_lexer": "ipython3",
   "version": "3.11.5"
  }
 },
 "nbformat": 4,
 "nbformat_minor": 2
}
